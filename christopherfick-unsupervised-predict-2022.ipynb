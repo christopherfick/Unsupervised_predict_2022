{
 "cells": [
  {
   "cell_type": "code",
   "execution_count": 1,
   "metadata": {
    "_cell_guid": "b1076dfc-b9ad-4769-8c92-a6c4dae69d19",
    "_uuid": "8f2839f25d086af736a60e9eeb907d3b93b6e0e5",
    "execution": {
     "iopub.execute_input": "2022-06-08T05:30:10.731739Z",
     "iopub.status.busy": "2022-06-08T05:30:10.731351Z",
     "iopub.status.idle": "2022-06-08T05:30:11.491168Z",
     "shell.execute_reply": "2022-06-08T05:30:11.490450Z",
     "shell.execute_reply.started": "2022-06-08T05:30:10.731709Z"
    }
   },
   "outputs": [],
   "source": [
    "import numpy as np \n",
    "import pandas as pd \n",
    "\n",
    "from tqdm import tqdm\n",
    "\n",
    "import matplotlib.pyplot as plt\n",
    "import seaborn as sns\n",
    "\n",
    "# Import models\n",
    "from surprise import (SVD,\n",
    "                      SVDpp,\n",
    "                      SlopeOne,\n",
    "                      NMF,\n",
    "                      NormalPredictor,\n",
    "                      KNNBaseline,\n",
    "                      KNNWithMeans,\n",
    "                      KNNWithZScore,\n",
    "                      BaselineOnly,\n",
    "                      CoClustering,)\n",
    "\n",
    "from surprise import Dataset, Reader\n",
    "from surprise.model_selection import cross_validate"
   ]
  },
  {
   "cell_type": "code",
   "execution_count": 9,
   "metadata": {
    "execution": {
     "iopub.execute_input": "2022-06-07T09:21:55.220226Z",
     "iopub.status.busy": "2022-06-07T09:21:55.21979Z",
     "iopub.status.idle": "2022-06-07T09:21:55.228873Z",
     "shell.execute_reply": "2022-06-07T09:21:55.227942Z",
     "shell.execute_reply.started": "2022-06-07T09:21:55.220182Z"
    }
   },
   "outputs": [],
   "source": [
    "def load_data(name):\n",
    "    return pd.read_csv('data/' + name)\n",
    "\n",
    "\n",
    "def take_samples(df, n_samples:int, size:int, random_state=None):\n",
    "    \"\"\"Takes samples from DataFrame object returns a dictionary with samples\n",
    "    \n",
    "    Args:\n",
    "        df -> pd.DataFrame: Data in which to take samples from\n",
    "        n_samples -> int: Number of samples\n",
    "        size -> int: Number of observations per sample\n",
    "        random_state -> int: For reproducible results\n",
    "        \n",
    "    Returns:\n",
    "        Dictionary of samples where keys (zero indexed) are the samples and values are the samples observations\n",
    "        \n",
    "    Examples:\n",
    "        # From DataFrame 'df' take 5 samples each containing 100 observations\n",
    "        samples = takes_samples(df=df, \n",
    "                                n_samples=5, \n",
    "                                size=100)\n",
    "                                \n",
    "        samples.get(0)  # Get first sample containing 100 observations\n",
    "        samples.get(1)  # Get next sample containing 100 observations etc...\n",
    "    \"\"\"\n",
    "    df = df.copy()\n",
    "    df_size = df.shape[0]\n",
    "    \n",
    "    n_samples = range(0, n_samples)\n",
    "    n_samples_length = len(n_samples)\n",
    "\n",
    "    required_size = n_samples_length * size\n",
    "    if required_size > df_size:\n",
    "        raise ValueError(f'Dataframe of size {df_size} is not big enough to support '\n",
    "                         f'required size of {required_size}')\n",
    "        \n",
    "    sample_dict = {}\n",
    "    for i in tqdm(n_samples):\n",
    "        sample = df.sample(size, random_state=random_state)\n",
    "        sample_dict[i] = sample\n",
    "        df.drop(sample.index, inplace=True)\n",
    "    return sample_dict"
   ]
  },
  {
   "cell_type": "code",
   "execution_count": 10,
   "metadata": {
    "execution": {
     "iopub.execute_input": "2022-06-07T09:21:59.510115Z",
     "iopub.status.busy": "2022-06-07T09:21:59.509409Z",
     "iopub.status.idle": "2022-06-07T09:22:07.953653Z",
     "shell.execute_reply": "2022-06-07T09:22:07.952624Z",
     "shell.execute_reply.started": "2022-06-07T09:21:59.510068Z"
    }
   },
   "outputs": [],
   "source": [
    "train_df = load_data('train.csv')\n",
    "test_df = load_data('test.csv')"
   ]
  },
  {
   "cell_type": "code",
   "execution_count": 11,
   "metadata": {
    "execution": {
     "iopub.execute_input": "2022-06-07T09:22:07.955979Z",
     "iopub.status.busy": "2022-06-07T09:22:07.955316Z",
     "iopub.status.idle": "2022-06-07T09:22:07.980683Z",
     "shell.execute_reply": "2022-06-07T09:22:07.979516Z",
     "shell.execute_reply.started": "2022-06-07T09:22:07.955934Z"
    }
   },
   "outputs": [
    {
     "name": "stdout",
     "output_type": "stream",
     "text": [
      "<class 'pandas.core.frame.DataFrame'>\n",
      "RangeIndex: 10000038 entries, 0 to 10000037\n",
      "Data columns (total 4 columns):\n",
      " #   Column     Dtype  \n",
      "---  ------     -----  \n",
      " 0   userId     int64  \n",
      " 1   movieId    int64  \n",
      " 2   rating     float64\n",
      " 3   timestamp  int64  \n",
      "dtypes: float64(1), int64(3)\n",
      "memory usage: 305.2 MB\n"
     ]
    }
   ],
   "source": [
    "train_df.info()"
   ]
  },
  {
   "cell_type": "code",
   "execution_count": 12,
   "metadata": {
    "execution": {
     "iopub.execute_input": "2022-06-07T09:22:12.376932Z",
     "iopub.status.busy": "2022-06-07T09:22:12.375981Z",
     "iopub.status.idle": "2022-06-07T09:22:14.572961Z",
     "shell.execute_reply": "2022-06-07T09:22:14.571035Z",
     "shell.execute_reply.started": "2022-06-07T09:22:12.376894Z"
    }
   },
   "outputs": [
    {
     "data": {
      "image/png": "[encoded data removed]",
      "text/plain": [
       "<Figure size 720x360 with 1 Axes>"
      ]
     },
     "metadata": {
      "needs_background": "light"
     },
     "output_type": "display_data"
    }
   ],
   "source": [
    "fig, ax = plt.subplots(figsize=(10,5))\n",
    "\n",
    "\n",
    "ratings_plot = sns.countplot(x='rating', \n",
    "                            data=train_df, \n",
    "                            order=train_df.rating.value_counts().index,\n",
    "                            palette='binary_r',\n",
    "                            ax=ax)\n",
    "\n",
    "ratings_plot.set_title('Movie ratings', y=1.03)\n",
    "ratings_plot.set_xlabel('ratings')\n",
    "ratings_plot.set_ylabel('# of ratings (millions)')\n",
    "\n",
    "plt.show()"
   ]
  },
  {
   "cell_type": "markdown",
   "metadata": {},
   "source": [
    "### train.csv breakdown\n",
    "---\n",
    "\n",
    "- shape = (10000038, 4)\n",
    "- memory_usage = 305.2 mb\n",
    "- Ratings on average are positive"
   ]
  },
  {
   "cell_type": "code",
   "execution_count": 13,
   "metadata": {
    "execution": {
     "iopub.execute_input": "2022-06-07T09:22:55.890314Z",
     "iopub.status.busy": "2022-06-07T09:22:55.889905Z",
     "iopub.status.idle": "2022-06-07T09:22:57.046485Z",
     "shell.execute_reply": "2022-06-07T09:22:57.0456Z",
     "shell.execute_reply.started": "2022-06-07T09:22:55.890277Z"
    }
   },
   "outputs": [
    {
     "name": "stderr",
     "output_type": "stream",
     "text": [
      "100%|█████████████████████████████████████████████| 1/1 [00:00<00:00,  1.13it/s]\n"
     ]
    }
   ],
   "source": [
    "sample = take_samples(train_df, 1, 20000, random_state=22).get(0)"
   ]
  },
  {
   "cell_type": "markdown",
   "metadata": {},
   "source": [
    "### Testing mutliple algorithms on sampled data:\n",
    "---"
   ]
  },
  {
   "cell_type": "code",
   "execution_count": 14,
   "metadata": {
    "execution": {
     "iopub.execute_input": "2022-06-06T08:08:23.837049Z",
     "iopub.status.busy": "2022-06-06T08:08:23.83659Z",
     "iopub.status.idle": "2022-06-06T08:09:53.320847Z",
     "shell.execute_reply": "2022-06-06T08:09:53.319835Z",
     "shell.execute_reply.started": "2022-06-06T08:08:23.837005Z"
    }
   },
   "outputs": [
    {
     "name": "stdout",
     "output_type": "stream",
     "text": [
      "Estimating biases using als...\n",
      "Computing the msd similarity matrix...\n",
      "Done computing similarity matrix.\n",
      "Estimating biases using als...\n",
      "Computing the msd similarity matrix...\n",
      "Done computing similarity matrix.\n",
      "Estimating biases using als...\n",
      "Computing the msd similarity matrix...\n",
      "Done computing similarity matrix.\n",
      "Computing the msd similarity matrix...\n",
      "Done computing similarity matrix.\n",
      "Computing the msd similarity matrix...\n",
      "Done computing similarity matrix.\n",
      "Computing the msd similarity matrix...\n",
      "Done computing similarity matrix.\n",
      "Computing the msd similarity matrix...\n",
      "Done computing similarity matrix.\n",
      "Computing the msd similarity matrix...\n",
      "Done computing similarity matrix.\n",
      "Computing the msd similarity matrix...\n",
      "Done computing similarity matrix.\n",
      "Estimating biases using als...\n",
      "Estimating biases using als...\n",
      "Estimating biases using als...\n"
     ]
    }
   ],
   "source": [
    "reader = Reader(rating_scale=(0.5, 5.0))\n",
    "data = Dataset.load_from_df(sample[['userId', 'movieId', 'rating']], reader)\n",
    "\n",
    "\n",
    "algorithms = [SVD(), SVDpp(), SlopeOne(), \n",
    "              NMF(), NormalPredictor(), KNNBaseline(), \n",
    "              KNNWithMeans(), KNNWithZScore(), BaselineOnly(),\n",
    "              CoClustering(),]\n",
    "\n",
    "benchmark = {}\n",
    "for algorithm in algorithms:   \n",
    "    results = cross_validate(algorithm, \n",
    "                             data, \n",
    "                             measures=['RMSE'], \n",
    "                             cv=3,)\n",
    "    \n",
    "    algorithm_name = str(algorithm).split('.')[-1].split(' ')[0]\n",
    "    benchmark[algorithm_name] = pd.DataFrame.from_dict(results).mean()\n",
    "\n",
    "benchmark_df = pd.DataFrame(benchmark)"
   ]
  },
  {
   "cell_type": "code",
   "execution_count": 15,
   "metadata": {
    "execution": {
     "iopub.execute_input": "2022-06-06T08:09:53.322292Z",
     "iopub.status.busy": "2022-06-06T08:09:53.321967Z",
     "iopub.status.idle": "2022-06-06T08:09:53.346055Z",
     "shell.execute_reply": "2022-06-06T08:09:53.345052Z",
     "shell.execute_reply.started": "2022-06-06T08:09:53.322265Z"
    }
   },
   "outputs": [
    {
     "data": {
      "text/html": [
       "<div>\n",
       "<style scoped>\n",
       "    .dataframe tbody tr th:only-of-type {\n",
       "        vertical-align: middle;\n",
       "    }\n",
       "\n",
       "    .dataframe tbody tr th {\n",
       "        vertical-align: top;\n",
       "    }\n",
       "\n",
       "    .dataframe thead th {\n",
       "        text-align: right;\n",
       "    }\n",
       "</style>\n",
       "<table border=\"1\" class=\"dataframe\">\n",
       "  <thead>\n",
       "    <tr style=\"text-align: right;\">\n",
       "      <th></th>\n",
       "      <th>SVDpp</th>\n",
       "      <th>SVD</th>\n",
       "      <th>BaselineOnly</th>\n",
       "      <th>KNNBaseline</th>\n",
       "      <th>KNNWithZScore</th>\n",
       "      <th>SlopeOne</th>\n",
       "      <th>KNNWithMeans</th>\n",
       "      <th>NMF</th>\n",
       "      <th>CoClustering</th>\n",
       "      <th>NormalPredictor</th>\n",
       "    </tr>\n",
       "  </thead>\n",
       "  <tbody>\n",
       "    <tr>\n",
       "      <th>test_rmse</th>\n",
       "      <td>1.016377</td>\n",
       "      <td>1.020313</td>\n",
       "      <td>1.021385</td>\n",
       "      <td>1.023272</td>\n",
       "      <td>1.101339</td>\n",
       "      <td>1.103869</td>\n",
       "      <td>1.107318</td>\n",
       "      <td>1.107383</td>\n",
       "      <td>1.124783</td>\n",
       "      <td>1.454864</td>\n",
       "    </tr>\n",
       "    <tr>\n",
       "      <th>fit_time</th>\n",
       "      <td>1.090058</td>\n",
       "      <td>0.783953</td>\n",
       "      <td>0.050699</td>\n",
       "      <td>2.465656</td>\n",
       "      <td>2.884790</td>\n",
       "      <td>0.363158</td>\n",
       "      <td>2.545549</td>\n",
       "      <td>1.497300</td>\n",
       "      <td>1.130372</td>\n",
       "      <td>0.015493</td>\n",
       "    </tr>\n",
       "    <tr>\n",
       "      <th>test_time</th>\n",
       "      <td>0.043024</td>\n",
       "      <td>0.036106</td>\n",
       "      <td>0.023406</td>\n",
       "      <td>0.039440</td>\n",
       "      <td>0.040009</td>\n",
       "      <td>0.069825</td>\n",
       "      <td>0.037379</td>\n",
       "      <td>0.032121</td>\n",
       "      <td>0.023834</td>\n",
       "      <td>0.039307</td>\n",
       "    </tr>\n",
       "  </tbody>\n",
       "</table>\n",
       "</div>"
      ],
      "text/plain": [
       "              SVDpp       SVD  BaselineOnly  KNNBaseline  KNNWithZScore  \\\n",
       "test_rmse  1.016377  1.020313      1.021385     1.023272       1.101339   \n",
       "fit_time   1.090058  0.783953      0.050699     2.465656       2.884790   \n",
       "test_time  0.043024  0.036106      0.023406     0.039440       0.040009   \n",
       "\n",
       "           SlopeOne  KNNWithMeans       NMF  CoClustering  NormalPredictor  \n",
       "test_rmse  1.103869      1.107318  1.107383      1.124783         1.454864  \n",
       "fit_time   0.363158      2.545549  1.497300      1.130372         0.015493  \n",
       "test_time  0.069825      0.037379  0.032121      0.023834         0.039307  "
      ]
     },
     "execution_count": 15,
     "metadata": {},
     "output_type": "execute_result"
    }
   ],
   "source": [
    "# Sort table by test_rmse\n",
    "order_best_rmse = benchmark_df.loc['test_rmse'].sort_values().index\n",
    "benchmark_df = benchmark_df[order_best_rmse]\n",
    "\n",
    "benchmark_df"
   ]
  },
  {
   "cell_type": "markdown",
   "metadata": {},
   "source": [
    "### Model selection\n",
    "---\n",
    "\n",
    "- BaselineOnly has a good test_rmse with a low time cost"
   ]
  },
  {
   "cell_type": "code",
   "execution_count": 16,
   "metadata": {
    "execution": {
     "iopub.execute_input": "2022-06-06T08:09:53.347949Z",
     "iopub.status.busy": "2022-06-06T08:09:53.347477Z",
     "iopub.status.idle": "2022-06-06T08:10:31.57513Z",
     "shell.execute_reply": "2022-06-06T08:10:31.57399Z",
     "shell.execute_reply.started": "2022-06-06T08:09:53.347907Z"
    }
   },
   "outputs": [],
   "source": [
    "reader = Reader(rating_scale=(0.5, 5.0))\n",
    "data = Dataset.load_from_df(train_df[['userId', 'movieId', 'rating']], reader)\n",
    "trainset = data.build_full_trainset()"
   ]
  },
  {
   "cell_type": "code",
   "execution_count": 17,
   "metadata": {
    "execution": {
     "iopub.execute_input": "2022-06-06T08:10:31.57855Z",
     "iopub.status.busy": "2022-06-06T08:10:31.578044Z",
     "iopub.status.idle": "2022-06-06T08:12:20.691068Z",
     "shell.execute_reply": "2022-06-06T08:12:20.690031Z",
     "shell.execute_reply.started": "2022-06-06T08:10:31.578515Z"
    }
   },
   "outputs": [
    {
     "name": "stdout",
     "output_type": "stream",
     "text": [
      "Estimating biases using als...\n"
     ]
    },
    {
     "data": {
      "text/plain": [
       "<surprise.prediction_algorithms.baseline_only.BaselineOnly at 0x7f78f6f1ba60>"
      ]
     },
     "execution_count": 17,
     "metadata": {},
     "output_type": "execute_result"
    }
   ],
   "source": [
    "algorithm = BaselineOnly()\n",
    "algorithm.fit(trainset)"
   ]
  },
  {
   "cell_type": "code",
   "execution_count": 32,
   "metadata": {
    "execution": {
     "iopub.execute_input": "2022-06-06T09:38:45.613778Z",
     "iopub.status.busy": "2022-06-06T09:38:45.613385Z",
     "iopub.status.idle": "2022-06-06T09:38:45.748766Z",
     "shell.execute_reply": "2022-06-06T09:38:45.748041Z",
     "shell.execute_reply.started": "2022-06-06T09:38:45.613747Z"
    }
   },
   "outputs": [],
   "source": [
    "submission = test_df.copy()\n",
    "zip_user_movie = list(zip(submission.userId, submission.movieId))\n",
    "\n",
    "\n",
    "# Concat userId_movieId\n",
    "submission['id'] = [str(user) + '_' + str(movie) \n",
    "                    for user, movie \n",
    "                    in zip_user_movie]\n",
    "\n",
    "\n",
    "# Get predicted ratings for each user + movie \n",
    "submission['rating'] = [algorithm.predict(user, \n",
    "                                          movie).est \n",
    "                        for user, movie \n",
    "                        in zip_user_movie]\n",
    "\n",
    "# Round rating predictions\n",
    "submission['rating'] = [round((r*2),0)/2 for r in submission.rating]\n",
    "\n",
    "# Drop userId and movieId features\n",
    "submission.drop(['userId', 'movieId'], axis=1, inplace=True)"
   ]
  },
  {
   "cell_type": "code",
   "execution_count": 33,
   "metadata": {
    "execution": {
     "iopub.execute_input": "2022-06-06T09:45:09.97825Z",
     "iopub.status.busy": "2022-06-06T09:45:09.977666Z",
     "iopub.status.idle": "2022-06-06T09:45:10.021147Z",
     "shell.execute_reply": "2022-06-06T09:45:10.020252Z",
     "shell.execute_reply.started": "2022-06-06T09:45:09.978185Z"
    }
   },
   "outputs": [],
   "source": [
    "submission.to_csv('submission/submission_v01.csv', index=False)"
   ]
  }
 ],
 "metadata": {
  "kernelspec": {
   "display_name": "Python 3 (ipykernel)",
   "language": "python",
   "name": "python3"
  },
  "language_info": {
   "codemirror_mode": {
    "name": "ipython",
    "version": 3
   },
   "file_extension": ".py",
   "mimetype": "text/x-python",
   "name": "python",
   "nbconvert_exporter": "python",
   "pygments_lexer": "ipython3",
   "version": "3.9.12"
  }
 },
 "nbformat": 4,
 "nbformat_minor": 4
}
